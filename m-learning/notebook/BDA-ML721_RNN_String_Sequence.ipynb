{
 "cells": [
  {
   "cell_type": "markdown",
   "metadata": {},
   "source": [
    "# Industry 4.0 의 중심, AI - ML&DL"
   ]
  },
  {
   "cell_type": "markdown",
   "metadata": {},
   "source": [
    "<div align='right'><font size=2 color='gray'>Machine Learning & Deep Learning with TensorFlow @ <font color='blue'><a href='https://www.facebook.com/jskim.kr'>FB / jskim.kr</a></font>, 김진수</font></div>\n",
    "<hr>"
   ]
  },
  {
   "cell_type": "markdown",
   "metadata": {},
   "source": [
    "# Sect12. RNN (Recurrent Neural Network)"
   ]
  },
  {
   "cell_type": "code",
   "execution_count": 1,
   "metadata": {
    "collapsed": true
   },
   "outputs": [],
   "source": [
    "from images import bigpycraft_ai as bpc\n",
    "from IPython.display import Image \n",
    "from tqdm import tqdm_notebook"
   ]
  },
  {
   "cell_type": "code",
   "execution_count": 2,
   "metadata": {
    "collapsed": true
   },
   "outputs": [],
   "source": [
    "import time\n",
    "import os\n",
    "\n",
    "def chk_processting_time(start_time, end_time):\n",
    "    process_time = end_time - start_time\n",
    "    p_time = int(process_time)\n",
    "    p_min = p_time // 60\n",
    "    p_sec = p_time %  60\n",
    "    print('처리시간 : {p_min}분 {p_sec}초 경과되었습니다.'.format(\n",
    "            p_min = p_min, \n",
    "            p_sec = p_sec\n",
    "        ))\n",
    "    return process_time"
   ]
  },
  {
   "cell_type": "markdown",
   "metadata": {},
   "source": [
    "### 12-1. rnn_string_sequence\n",
    "<hr>\n",
    "``` python \n",
    "\n",
    "# Lab 12 RNN\n",
    "import tensorflow as tf\n",
    "import numpy as np\n",
    "\n",
    "tf.set_random_seed(777)  # reproducibility\n",
    "\n",
    "idx2char = ['h', 'i', 'e', 'l', 'o']\n",
    "# Teach hello: hihell -> ihello\n",
    "x_data = [[0, 1, 0, 2, 3, 3]]   # hihell\n",
    "x_one_hot = [[[1, 0, 0, 0, 0],   # h 0\n",
    "              [0, 1, 0, 0, 0],   # i 1\n",
    "              [1, 0, 0, 0, 0],   # h 0\n",
    "              [0, 0, 1, 0, 0],   # e 2\n",
    "              [0, 0, 0, 1, 0],   # l 3\n",
    "              [0, 0, 0, 1, 0]]]  # l 3\n",
    "\n",
    "y_data = [[1, 0, 2, 3, 3, 4]]    # ihello\n",
    "\n",
    "input_dim = 5  # one-hot size\n",
    "hidden_size = 5  # output from the LSTM. 5 to directly predict one-hot\n",
    "batch_size = 1   # one sentence\n",
    "sequence_length = 6  # |ihello| == 6\n",
    "\n",
    "X = tf.placeholder(\n",
    "    tf.float32, [None, sequence_length, hidden_size])  # X one-hot\n",
    "Y = tf.placeholder(tf.int32, [None, sequence_length])  # Y label\n",
    "\n",
    "cell = tf.contrib.rnn.BasicLSTMCell(num_units=hidden_size, state_is_tuple=True)\n",
    "initial_state = cell.zero_state(batch_size, tf.float32)\n",
    "outputs, _states = tf.nn.dynamic_rnn(\n",
    "    cell, X, initial_state=initial_state, dtype=tf.float32)\n",
    "\n",
    "weights = tf.ones([batch_size, sequence_length])\n",
    "sequence_loss = tf.contrib.seq2seq.sequence_loss(\n",
    "    logits=outputs, targets=Y, weights=weights)\n",
    "loss = tf.reduce_mean(sequence_loss)\n",
    "train = tf.train.AdamOptimizer(learning_rate=0.1).minimize(loss)\n",
    "\n",
    "prediction = tf.argmax(outputs, axis=2)\n",
    "\n",
    "with tf.Session() as sess:\n",
    "    sess.run(tf.global_variables_initializer())\n",
    "    for t_cnt in range(2000):\n",
    "        l, _ = sess.run([loss, train], feed_dict={X: x_one_hot, Y: y_data})\n",
    "        result = sess.run(prediction, feed_dict={X: x_one_hot})\n",
    "        print(t_cnt, \"loss:\", l, \"prediction: \", result, \"true Y: \", y_data)\n",
    "\n",
    "        # print char using dic\n",
    "        result_str = [idx2char[c] for c in np.squeeze(result)]\n",
    "        print(\"\\tPrediction str: \", ''.join(result_str))\n",
    "\n",
    "'''\n",
    " 1th training... \n",
    "  loss : 1.6107723712921143, \t prediction : [[2 3 3 4 4 4]], \t true Y : [[1, 0, 2, 3, 3, 4]] \t→ Prediction str : ellooo\n",
    " 2th training... \n",
    "  loss : 1.525847315788269, \t prediction : [[2 3 3 3 4 4]], \t true Y : [[1, 0, 2, 3, 3, 4]] \t→ Prediction str : ellloo\n",
    " 3th training... \n",
    "  loss : 1.453248381614685, \t prediction : [[2 3 2 3 3 4]], \t true Y : [[1, 0, 2, 3, 3, 4]] \t→ Prediction str : elello\n",
    " 4th training... \n",
    "  loss : 1.381018877029419, \t prediction : [[2 3 2 3 3 3]], \t true Y : [[1, 0, 2, 3, 3, 4]] \t→ Prediction str : elelll\n",
    " 5th training... \n",
    "  loss : 1.3161988258361816, \t prediction : [[2 3 2 3 3 3]], \t true Y : [[1, 0, 2, 3, 3, 4]] \t→ Prediction str : elelll\n",
    "  \n",
    "...\n",
    "...\n",
    "\n",
    " 1998th training... \n",
    "  loss : 0.6351824998855591, \t prediction : [[1 0 2 3 3 4]], \t true Y : [[1, 0, 2, 3, 3, 4]] \t→ Prediction str : ihello\n",
    " 1999th training... \n",
    "  loss : 0.6351807117462158, \t prediction : [[1 0 2 3 3 4]], \t true Y : [[1, 0, 2, 3, 3, 4]] \t→ Prediction str : ihello\n",
    " 2000th training... \n",
    "  loss : 0.635178804397583, \t prediction : [[1 0 2 3 3 4]], \t true Y : [[1, 0, 2, 3, 3, 4]] \t→ Prediction str : ihello\n",
    "  \n",
    "'''\n",
    "\n",
    "```\n",
    "\n",
    "<hr>"
   ]
  },
  {
   "cell_type": "code",
   "execution_count": 3,
   "metadata": {},
   "outputs": [
    {
     "name": "stderr",
     "output_type": "stream",
     "text": [
      "C:\\Python\\Anaconda3-50\\lib\\site-packages\\h5py\\__init__.py:34: FutureWarning: Conversion of the second argument of issubdtype from `float` to `np.floating` is deprecated. In future, it will be treated as `np.float64 == np.dtype(float).type`.\n",
      "  from ._conv import register_converters as _register_converters\n"
     ]
    }
   ],
   "source": [
    "import tensorflow as tf\n",
    "import numpy as np"
   ]
  },
  {
   "cell_type": "code",
   "execution_count": 4,
   "metadata": {},
   "outputs": [
    {
     "data": {
      "text/plain": [
       "['!', '경', '보', '안', '여']"
      ]
     },
     "execution_count": 4,
     "metadata": {},
     "output_type": "execute_result"
    }
   ],
   "source": [
    "word = \"여보!안경안보여\"\n",
    "word = list(set(word))\n",
    "word = sorted(word)\n",
    "word"
   ]
  },
  {
   "cell_type": "code",
   "execution_count": 5,
   "metadata": {
    "collapsed": true
   },
   "outputs": [],
   "source": [
    "tf.set_random_seed(777)  # reproducibility\n",
    "\n",
    "idx2char = ['!', '경', '보', '안', '여']\n",
    "# idx2char = word\n",
    "\n",
    "# Teach hello: hihell -> ihello\n",
    "x_data    = [[4, 2, 0, 3, 1, 3, 2]]   # 여보!안경안보\n",
    "\n",
    "x_one_hot = [[[0, 0, 0, 0, 1],     # 여 4\n",
    "              [0, 0, 1, 0, 0],     # 보 2\n",
    "              [1, 0, 0, 0, 0],     # !  0\n",
    "              [0, 0, 0, 1, 0],     # 안 3\n",
    "              [0, 1, 0, 0, 0],     # 경 1\n",
    "              [0, 0, 0, 1, 0],     # 안 3\n",
    "              [0, 0, 1, 0, 0]]]    # 보 2\n",
    "\n",
    "y_data = [[2, 0, 3, 1, 3, 2, 4]]   # 보!안경안보여"
   ]
  },
  {
   "cell_type": "code",
   "execution_count": 6,
   "metadata": {
    "collapsed": true
   },
   "outputs": [],
   "source": [
    "input_dim       = 5   # one-hot size\n",
    "hidden_size     = 5   # output from the LSTM. 5 to directly predict one-hot\n",
    "batch_size      = 1   # one sentence\n",
    "sequence_length = 7   # len(\"보!안경안보여\") == 7\n"
   ]
  },
  {
   "cell_type": "code",
   "execution_count": 7,
   "metadata": {
    "collapsed": true
   },
   "outputs": [],
   "source": [
    "X = tf.placeholder(\n",
    "    tf.float32, [None, sequence_length, hidden_size])   # X one-hot\n",
    "Y = tf.placeholder(tf.int32, [None, sequence_length])   # Y label\n",
    "\n",
    "cell = tf.contrib.rnn.BasicLSTMCell(num_units=hidden_size, state_is_tuple=True)\n",
    "initial_state = cell.zero_state(batch_size, tf.float32)\n",
    "outputs, _states = tf.nn.dynamic_rnn(\n",
    "    cell, X, initial_state=initial_state, dtype=tf.float32)\n",
    "\n",
    "weights = tf.ones([batch_size, sequence_length])\n",
    "sequence_loss = tf.contrib.seq2seq.sequence_loss(\n",
    "    logits=outputs, targets=Y, weights=weights)\n",
    "loss = tf.reduce_mean(sequence_loss)\n",
    "train = tf.train.AdamOptimizer(learning_rate=0.1).minimize(loss)\n",
    "\n",
    "prediction = tf.argmax(outputs, axis=2)"
   ]
  },
  {
   "cell_type": "code",
   "execution_count": 8,
   "metadata": {},
   "outputs": [
    {
     "name": "stdout",
     "output_type": "stream",
     "text": [
      " 1th training... \n",
      "  Loss : 1.607013463973999, Prediction : [[3 4 3 4 3 3 4]], True Y : [[2, 0, 3, 1, 3, 2, 4]] \t→ Prediction Str : 안여안여안안여\n",
      " 2th training... \n",
      "  Loss : 1.5445698499679565, Prediction : [[3 4 3 2 3 2 4]], True Y : [[2, 0, 3, 1, 3, 2, 4]] \t→ Prediction Str : 안여안보안보여\n",
      " 3th training... \n",
      "  Loss : 1.488703966140747, Prediction : [[3 3 3 2 3 2 4]], True Y : [[2, 0, 3, 1, 3, 2, 4]] \t→ Prediction Str : 안안안보안보여\n",
      " 4th training... \n",
      "  Loss : 1.4339848756790161, Prediction : [[3 0 3 2 3 2 4]], True Y : [[2, 0, 3, 1, 3, 2, 4]] \t→ Prediction Str : 안!안보안보여\n",
      " 5th training... \n",
      "  Loss : 1.3778700828552246, Prediction : [[3 0 3 2 3 2 4]], True Y : [[2, 0, 3, 1, 3, 2, 4]] \t→ Prediction Str : 안!안보안보여\n",
      " 6th training... \n",
      "  Loss : 1.3250327110290527, Prediction : [[3 0 3 2 3 2 4]], True Y : [[2, 0, 3, 1, 3, 2, 4]] \t→ Prediction Str : 안!안보안보여\n",
      " 7th training... \n",
      "  Loss : 1.2718167304992676, Prediction : [[0 0 3 2 3 2 4]], True Y : [[2, 0, 3, 1, 3, 2, 4]] \t→ Prediction Str : !!안보안보여\n",
      " 8th training... \n",
      "  Loss : 1.221116304397583, Prediction : [[0 0 3 3 3 2 4]], True Y : [[2, 0, 3, 1, 3, 2, 4]] \t→ Prediction Str : !!안안안보여\n",
      " 9th training... \n",
      "  Loss : 1.1714674234390259, Prediction : [[3 0 3 3 3 2 4]], True Y : [[2, 0, 3, 1, 3, 2, 4]] \t→ Prediction Str : 안!안안안보여\n",
      " 100th training... \n",
      "  Loss : 0.64296555519104, Prediction : [[2 0 3 1 3 2 4]], True Y : [[2, 0, 3, 1, 3, 2, 4]] \t→ Prediction Str : 보!안경안보여\n",
      " 200th training... \n",
      "  Loss : 0.6403987407684326, Prediction : [[2 0 3 1 3 2 4]], True Y : [[2, 0, 3, 1, 3, 2, 4]] \t→ Prediction Str : 보!안경안보여\n",
      " 300th training... \n",
      "  Loss : 0.6208416819572449, Prediction : [[2 0 3 1 3 2 4]], True Y : [[2, 0, 3, 1, 3, 2, 4]] \t→ Prediction Str : 보!안경안보여\n",
      " 400th training... \n",
      "  Loss : 0.6201494932174683, Prediction : [[2 0 3 1 3 2 4]], True Y : [[2, 0, 3, 1, 3, 2, 4]] \t→ Prediction Str : 보!안경안보여\n",
      " 500th training... \n",
      "  Loss : 0.6198824644088745, Prediction : [[2 0 3 1 3 2 4]], True Y : [[2, 0, 3, 1, 3, 2, 4]] \t→ Prediction Str : 보!안경안보여\n",
      " 600th training... \n",
      "  Loss : 0.6197274327278137, Prediction : [[2 0 3 1 3 2 4]], True Y : [[2, 0, 3, 1, 3, 2, 4]] \t→ Prediction Str : 보!안경안보여\n",
      " 700th training... \n",
      "  Loss : 0.6139013767242432, Prediction : [[2 0 3 1 3 2 4]], True Y : [[2, 0, 3, 1, 3, 2, 4]] \t→ Prediction Str : 보!안경안보여\n",
      " 800th training... \n",
      "  Loss : 0.5980679392814636, Prediction : [[2 0 3 1 3 2 4]], True Y : [[2, 0, 3, 1, 3, 2, 4]] \t→ Prediction Str : 보!안경안보여\n",
      " 900th training... \n",
      "  Loss : 0.5978664755821228, Prediction : [[2 0 3 1 3 2 4]], True Y : [[2, 0, 3, 1, 3, 2, 4]] \t→ Prediction Str : 보!안경안보여\n",
      " 1000th training... \n",
      "  Loss : 0.5946573615074158, Prediction : [[2 0 3 1 3 2 4]], True Y : [[2, 0, 3, 1, 3, 2, 4]] \t→ Prediction Str : 보!안경안보여\n",
      " 1100th training... \n",
      "  Loss : 0.5945151448249817, Prediction : [[2 0 3 1 3 2 4]], True Y : [[2, 0, 3, 1, 3, 2, 4]] \t→ Prediction Str : 보!안경안보여\n",
      " 1200th training... \n",
      "  Loss : 0.5944573879241943, Prediction : [[2 0 3 1 3 2 4]], True Y : [[2, 0, 3, 1, 3, 2, 4]] \t→ Prediction Str : 보!안경안보여\n",
      " 1300th training... \n",
      "  Loss : 0.5944215655326843, Prediction : [[2 0 3 1 3 2 4]], True Y : [[2, 0, 3, 1, 3, 2, 4]] \t→ Prediction Str : 보!안경안보여\n",
      " 1400th training... \n",
      "  Loss : 0.5943963527679443, Prediction : [[2 0 3 1 3 2 4]], True Y : [[2, 0, 3, 1, 3, 2, 4]] \t→ Prediction Str : 보!안경안보여\n",
      " 1500th training... \n",
      "  Loss : 0.5943773984909058, Prediction : [[2 0 3 1 3 2 4]], True Y : [[2, 0, 3, 1, 3, 2, 4]] \t→ Prediction Str : 보!안경안보여\n",
      " 1600th training... \n",
      "  Loss : 0.5943623781204224, Prediction : [[2 0 3 1 3 2 4]], True Y : [[2, 0, 3, 1, 3, 2, 4]] \t→ Prediction Str : 보!안경안보여\n",
      " 1700th training... \n",
      "  Loss : 0.594350278377533, Prediction : [[2 0 3 1 3 2 4]], True Y : [[2, 0, 3, 1, 3, 2, 4]] \t→ Prediction Str : 보!안경안보여\n",
      " 1800th training... \n",
      "  Loss : 0.5943402647972107, Prediction : [[2 0 3 1 3 2 4]], True Y : [[2, 0, 3, 1, 3, 2, 4]] \t→ Prediction Str : 보!안경안보여\n",
      " 1900th training... \n",
      "  Loss : 0.5943317413330078, Prediction : [[2 0 3 1 3 2 4]], True Y : [[2, 0, 3, 1, 3, 2, 4]] \t→ Prediction Str : 보!안경안보여\n",
      " 2000th training... \n",
      "  Loss : 0.59432452917099, Prediction : [[2 0 3 1 3 2 4]], True Y : [[2, 0, 3, 1, 3, 2, 4]] \t→ Prediction Str : 보!안경안보여\n"
     ]
    }
   ],
   "source": [
    "time1 = time.time()\n",
    "\n",
    "with tf.Session() as sess:\n",
    "    sess.run(tf.global_variables_initializer())\n",
    "    for t_cnt in range(2000):\n",
    "        l, _ = sess.run([loss, train], feed_dict={X: x_one_hot, Y: y_data})\n",
    "        result = sess.run(prediction, feed_dict={X: x_one_hot})\n",
    "        \n",
    "        cnt = t_cnt+1\n",
    "        if cnt<10 or cnt%100==0:\n",
    "            # print(t_cnt, \"loss:\", l, \"prediction: \", result, \"true Y: \", y_data)\n",
    "            print(\" {cnt}th training... \\n  Loss : {loss}, Prediction : {pred}, True Y : {y_data} \".format(\n",
    "                    cnt  = cnt, \n",
    "                    loss = l, \n",
    "                    pred = result, \n",
    "                    y_data = y_data\n",
    "            ), end=\"\\t→ \")\n",
    "\n",
    "            # print char using dic\n",
    "            result_str = [idx2char[c] for c in np.squeeze(result)]\n",
    "            print(\"Prediction Str :\", ''.join(result_str))\n",
    "        \n",
    "time2 = time.time()\n"
   ]
  },
  {
   "cell_type": "code",
   "execution_count": 9,
   "metadata": {},
   "outputs": [
    {
     "name": "stdout",
     "output_type": "stream",
     "text": [
      "처리시간 : 0분 4초 경과되었습니다.\n"
     ]
    },
    {
     "data": {
      "text/plain": [
       "4.7917304039001465"
      ]
     },
     "execution_count": 9,
     "metadata": {},
     "output_type": "execute_result"
    }
   ],
   "source": [
    "chk_processting_time(time1, time2)"
   ]
  },
  {
   "cell_type": "markdown",
   "metadata": {
    "collapsed": true
   },
   "source": [
    "<hr>\n",
    "<marquee><font size=3 color='brown'>The BigpyCraft find the information to design valuable society with Technology & Craft.</font></marquee>\n",
    "<div align='right'><font size=2 color='gray'> &lt; The End &gt; </font></div>"
   ]
  }
 ],
 "metadata": {
  "kernelspec": {
   "display_name": "Python 3",
   "language": "python",
   "name": "python3"
  },
  "language_info": {
   "codemirror_mode": {
    "name": "ipython",
    "version": 3
   },
   "file_extension": ".py",
   "mimetype": "text/x-python",
   "name": "python",
   "nbconvert_exporter": "python",
   "pygments_lexer": "ipython3",
   "version": "3.6.3"
  }
 },
 "nbformat": 4,
 "nbformat_minor": 1
}
