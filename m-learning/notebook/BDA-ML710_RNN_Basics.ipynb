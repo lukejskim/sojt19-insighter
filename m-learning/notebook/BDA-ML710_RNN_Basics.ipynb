{
 "cells": [
  {
   "cell_type": "markdown",
   "metadata": {},
   "source": [
    "# Industry 4.0 의 중심, AI - ML&DL"
   ]
  },
  {
   "cell_type": "markdown",
   "metadata": {},
   "source": [
    "<div align='right'><font size=2 color='gray'>Machine Learning & Deep Learning with TensorFlow @ <font color='blue'><a href='https://www.facebook.com/jskim.kr'>FB / jskim.kr</a></font>, 김진수</font></div>\n",
    "<hr>"
   ]
  },
  {
   "cell_type": "markdown",
   "metadata": {},
   "source": [
    "# Sect12. RNN (Recurrent Newural Network)"
   ]
  },
  {
   "cell_type": "markdown",
   "metadata": {},
   "source": [
    "![image](https://cloud.githubusercontent.com/assets/901975/23348727/cc981856-fce7-11e6-83ea-4b187473466b.png)\n"
   ]
  },
  {
   "cell_type": "markdown",
   "metadata": {},
   "source": [
    "## 참고 사이트 정리\n",
    "\n",
    "### ★ [ 참조1.](https://shuuki4.wordpress.com/2016/01/27/word2vec-%EA%B4%80%EB%A0%A8-%EC%9D%B4%EB%A1%A0-%EC%A0%95%EB%A6%AC/) word2vec 관련 이론 정리\n",
    "* word2vec 모델을 이해하는데 필수적인 여러 가지 알고리즘을 일목요연하게 정리하고 있다.\n",
    "* 이 문서에서 사용되는 설명의 절반 이상을 이 사이트에서 참조, 정리했다.\n",
    "\n",
    "\n",
    "### ★ [ 참조2.](https://tensorflowkorea.gitbooks.io/tensorflow-kr/content/g3doc/tutorials/word2vec/) word2vec 모델 설명\n",
    "- 텐서플로우 코리아에서 번역해 놓은 word2vec 모델에 대한 한글 설명.\n",
    "- 이곳에 관련 seq2seq를 비롯한 관련 설명을 함께 볼 수 있다.\n",
    "\n",
    "### ★ [ 참조3.](https://github.com/tensorflow/tensorflow/blob/master/tensorflow/examples/tutorials/word2vec/word2vec_basic.py) word2vec_basic.py 원본 소스코드\n",
    "- github에 올려놓은 소스 코드. word2vec 폴더에 여러 파일이 함께 있다.\n",
    "\n",
    "### ★ [ 참조4.](http://keunwoochoi.blogspot.com/2016_06_01_archive.html) word2vec, t-SNE 설명(최근우)\n",
    "- 좋은 설명과 더불어 mnist 데이터를 tSNE로 표현하고 있다. 그 외에도 머신러닝 관련해서 좋은 글이 많이 있다.\n",
    "\n",
    "### ★ [ 참조5.](http://solarisailab.com/archives/374) 텐서플로우를 이용해 자연어를 처리하기 – Word Embedding(Word2vec)\n",
    "- 솔라리스의 인공지능 연구실이라는 이름의 사이트로, 텐서플로우 코리아에서 번역해 놓은 문서를 좀더 친절하게 정리해 놓았다.\n",
    "- 많은 차이가 있지는 않지만, 번역이 좀더 자연스럽다. 그리고, word2vec_basic.py 원본 소스코드에 주석을 달아놨다.\n",
    "\n",
    "### ★ [ 참조6.](http://wizardsnote.tumblr.com/post/138692934699/%EB%94%A5%EB%9F%AC%EB%8B%9D-%EB%8B%A8%EC%96%B4%EC%82%AC%EC%A0%84-%EA%B8%B0%EC%B4%88-%EA%B0%9C%EB%85%90) 딥러닝 단어사전 - 기초 개념\n",
    "- Wizard's Note라는 이름의 사이트로, 단어에 대한 설명 외에도 해외 논문을 번역해 놓은 좋은 글들이 많이 있다.\n",
    "\n"
   ]
  },
  {
   "cell_type": "code",
   "execution_count": null,
   "metadata": {
    "collapsed": true
   },
   "outputs": [],
   "source": []
  },
  {
   "cell_type": "markdown",
   "metadata": {
    "collapsed": true
   },
   "source": [
    "## LSTM(RNN) Introduction\n",
    "> Recurrent Neural Network의 대표적인 LSTM 알고리즘\n",
    "- Google Brain의 Chris Olah : http://colah.github.io/posts/2015-08-Understanding-LSTMs/\n",
    "- https://brunch.co.kr/@chris-song/9"
   ]
  },
  {
   "cell_type": "code",
   "execution_count": null,
   "metadata": {
    "collapsed": true
   },
   "outputs": [],
   "source": []
  },
  {
   "cell_type": "code",
   "execution_count": null,
   "metadata": {
    "collapsed": true
   },
   "outputs": [],
   "source": []
  },
  {
   "cell_type": "code",
   "execution_count": null,
   "metadata": {
    "collapsed": true
   },
   "outputs": [],
   "source": []
  },
  {
   "cell_type": "markdown",
   "metadata": {
    "collapsed": true
   },
   "source": [
    "<hr>\n",
    "<marquee><font size=3 color='brown'>The BigpyCraft find the information to design valuable society with Technology & Craft.</font></marquee>\n",
    "<div align='right'><font size=2 color='gray'> &lt; The End &gt; </font></div>"
   ]
  }
 ],
 "metadata": {
  "kernelspec": {
   "display_name": "Python 3",
   "language": "python",
   "name": "python3"
  },
  "language_info": {
   "codemirror_mode": {
    "name": "ipython",
    "version": 3
   },
   "file_extension": ".py",
   "mimetype": "text/x-python",
   "name": "python",
   "nbconvert_exporter": "python",
   "pygments_lexer": "ipython3",
   "version": "3.6.3"
  }
 },
 "nbformat": 4,
 "nbformat_minor": 2
}
